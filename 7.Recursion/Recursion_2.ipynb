{
 "cells": [
  {
   "cell_type": "code",
   "execution_count": 7,
   "metadata": {},
   "outputs": [
    {
     "name": "stdout",
     "output_type": "stream",
     "text": [
      "False\n",
      "True\n"
     ]
    }
   ],
   "source": [
    "# recursion으로 이진탐색\n",
    "def rbinarySearch(a,item):\n",
    "    found = False\n",
    "    if len(a)<=0:\n",
    "        return False\n",
    "    else:\n",
    "        pos = len(a)//2\n",
    "\n",
    "        if a[pos] > item:\n",
    "            return rbinarySearch(a[:pos],item)\n",
    "        elif a[pos] < item:\n",
    "            return rbinarySearch(a[pos+1:],item)\n",
    "        elif a[pos] == item:\n",
    "            return True\n",
    "\n",
    "test = [0, 1, 2, 8, 13, 17, 19, 32, 42]\n",
    "print(rbinarySearch(test, 3))\n",
    "print(rbinarySearch(test, 13))\n",
    "        "
   ]
  },
  {
   "cell_type": "code",
   "execution_count": 5,
   "metadata": {},
   "outputs": [
    {
     "data": {
      "text/plain": [
       "'5AD'"
      ]
     },
     "execution_count": 5,
     "metadata": {},
     "output_type": "execute_result"
    }
   ],
   "source": [
    "\n",
    "# recursion으로 10진수를 16진수로 변환\n",
    "def rhexa(n):\n",
    "    if n == 0:\n",
    "        return \"\"\n",
    "    else:\n",
    "        if n%16<10:\n",
    "            return rhexa(n//16)+str(n%16)\n",
    "        else:\n",
    "            if n%16 ==10:\n",
    "                return rhexa(n//16)+\"A\"\n",
    "            elif n%16 ==11:\n",
    "                return rhexa(n//16)+\"B\"\n",
    "            elif n%16 ==12:\n",
    "                return rhexa(n//16)+\"C\"\n",
    "            elif n%16 ==13:\n",
    "                return rhexa(n//16)+\"D\"\n",
    "            elif n%16 ==14:\n",
    "                return rhexa(n//16)+\"E\"\n",
    "            elif n%16 ==15:\n",
    "                return rhexa(n//16)+\"F\"\n",
    "rhexa(1453)\n",
    "            \n",
    "    \n",
    "    "
   ]
  },
  {
   "cell_type": "code",
   "execution_count": 6,
   "metadata": {},
   "outputs": [
    {
     "data": {
      "text/plain": [
       "21"
      ]
     },
     "execution_count": 6,
     "metadata": {},
     "output_type": "execute_result"
    }
   ],
   "source": [
    "# recursion으로 피보나치 수열 \n",
    "def rFibonacci(n):\n",
    "    if n==1 or n==2:\n",
    "        return 1\n",
    "    else:\n",
    "        return rFibonacci(n-1) + rFibonacci(n-2)\n",
    "rFibonacci(8)"
   ]
  },
  {
   "cell_type": "code",
   "execution_count": null,
   "metadata": {
    "collapsed": true
   },
   "outputs": [],
   "source": [
    "# 시험 x > \n",
    "def TowerHanoi():\n",
    "    pass\n"
   ]
  }
 ],
 "metadata": {
  "kernelspec": {
   "display_name": "Python 3",
   "language": "python",
   "name": "python3"
  },
  "language_info": {
   "codemirror_mode": {
    "name": "ipython",
    "version": 3
   },
   "file_extension": ".py",
   "mimetype": "text/x-python",
   "name": "python",
   "nbconvert_exporter": "python",
   "pygments_lexer": "ipython3",
   "version": "3.6.2"
  }
 },
 "nbformat": 4,
 "nbformat_minor": 2
}
