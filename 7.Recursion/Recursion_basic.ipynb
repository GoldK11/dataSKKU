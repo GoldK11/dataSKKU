{
 "cells": [
  {
   "cell_type": "code",
   "execution_count": 1,
   "metadata": {
    "collapsed": true
   },
   "outputs": [],
   "source": [
    "# rfactorial\n",
    "\n",
    "def rfactorial(n):\n",
    "    if n==1:\n",
    "        return 1\n",
    "    else: \n",
    "        return rfactorial(n-1)*n\n",
    "    \n",
    "rfactorial(4) "
   ]
  },
  {
   "cell_type": "code",
   "execution_count": 2,
   "metadata": {},
   "outputs": [
    {
     "data": {
      "text/plain": [
       "42"
      ]
     },
     "execution_count": 2,
     "metadata": {},
     "output_type": "execute_result"
    }
   ],
   "source": [
    "def rmax(l):\n",
    "    if len(l) == 1:\n",
    "        return l[0]\n",
    "    else:\n",
    "        if l[0]> rmax(l[1:]):\n",
    "            return l[0]\n",
    "        else:\n",
    "            return rmax(l[1:])\n",
    "\n",
    "test = [10, 21, 2, 8, 13, 42, 17, 19, 14, 3]\n",
    "rmax(test)\n"
   ]
  },
  {
   "cell_type": "code",
   "execution_count": 6,
   "metadata": {},
   "outputs": [
    {
     "data": {
      "text/plain": [
       "'uoy era woH'"
      ]
     },
     "execution_count": 6,
     "metadata": {},
     "output_type": "execute_result"
    }
   ],
   "source": [
    "def rprint(s):\n",
    "    if len(s)<1:\n",
    "        return \"\" \n",
    "    else:\n",
    "        return rprint(s[1:]) + s[0]\n",
    "\n",
    "rprint(\"How are you\")"
   ]
  },
  {
   "cell_type": "code",
   "execution_count": 7,
   "metadata": {},
   "outputs": [
    {
     "data": {
      "text/plain": [
       "'1101101'"
      ]
     },
     "execution_count": 7,
     "metadata": {},
     "output_type": "execute_result"
    }
   ],
   "source": [
    "def rbinary(n):\n",
    "    if n==0:\n",
    "        return \"\"\n",
    "    else:\n",
    "        return rbinary(n//2)+str(n%2)\n",
    "\n",
    "rbinary(109)\n",
    "    "
   ]
  },
  {
   "cell_type": "code",
   "execution_count": null,
   "metadata": {
    "collapsed": true
   },
   "outputs": [],
   "source": []
  }
 ],
 "metadata": {
  "kernelspec": {
   "display_name": "Python 3",
   "language": "python",
   "name": "python3"
  },
  "language_info": {
   "codemirror_mode": {
    "name": "ipython",
    "version": 3
   },
   "file_extension": ".py",
   "mimetype": "text/x-python",
   "name": "python",
   "nbconvert_exporter": "python",
   "pygments_lexer": "ipython3",
   "version": "3.6.2"
  }
 },
 "nbformat": 4,
 "nbformat_minor": 2
}
