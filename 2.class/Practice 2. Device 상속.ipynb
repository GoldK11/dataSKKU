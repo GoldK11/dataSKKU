{
 "cells": [
  {
   "cell_type": "code",
   "execution_count": 29,
   "metadata": {
    "collapsed": true
   },
   "outputs": [],
   "source": [
    "class Device:\n",
    "    \n",
    "    def __init__(self,vo,on):\n",
    "        self.volume = vo\n",
    "        self.on = on\n",
    "        \n",
    "    def turnOn(self,vo):\n",
    "        self.on = True\n",
    "        print('Device is on')\n",
    "        print('Please set volume')\n",
    "        self.setVolume(vo)\n",
    "    \n",
    "    def turnOff(self):\n",
    "        self.on = False\n",
    "        print('device is off')\n",
    "   \n",
    "    def setVolume(self,vo):\n",
    "        self.volume = vo\n",
    "        print('Volume is changed :',vo)\n",
    "    \n",
    "    def increaseVo(self):\n",
    "        self.volume = self.volume + 1\n",
    "        print('Volume is increased :',self.volume)\n",
    "    \n",
    "    def decreaseVo(self):\n",
    "        self.volume = self.volume - 1\n",
    "        print('Volume is decreased :',self.volume)\n",
    "\n",
    "\n",
    "\n",
    "class TV(Device):\n",
    "    def __init__(self,ch,vo,on):\n",
    "        super().__init__(vo,on)\n",
    "        self.channel = ch\n",
    "    \n",
    "    def setChannel(self,ch):\n",
    "        self.channel = ch\n",
    "        print('Channel is changed :',ch)\n",
    "    \n",
    "    def increaseCh(self):\n",
    "        self.channel = self.channel + 1\n",
    "        print('Channel is increased :',self.channel)\n",
    "    \n",
    "    def decreaseCh(self):\n",
    "        self.channel = self.channel - 1\n",
    "        print('Channel is decreased :',self.channel)\n",
    "        \n",
    "    def __str__(self):\n",
    "        if self.on == False:\n",
    "            return 'TV가 꺼져있습니다'\n",
    "        return '현재 채널은 {0}번 이고 음량은 {1} 입니다'.format(self.channel, self.volume)\n",
    "    \n",
    "    \n",
    "    \n",
    "class Radio(Device):\n",
    "    def __init__(self,ch,vo,on):\n",
    "        super().__init__(vo,on)\n",
    "        self.channel = ch\n",
    "    \n",
    "    def setChannel(self,ch):\n",
    "        self.channel = ch\n",
    "        print('Channel is changed :',ch)\n",
    "    \n",
    "    def increaseCh(self):\n",
    "        self.channel = self.channel + 1\n",
    "        print('Channel is increased :',self.channel)\n",
    "    \n",
    "    def decreaseCh(self):\n",
    "        self.channel = self.channel - 1\n",
    "        print('Channel is decreased :',self.channel)\n",
    "        \n",
    "    def __str__(self):\n",
    "        if self.on == False:\n",
    "            return '라디오가 꺼져있습니다'\n",
    "        return '현재 채널은 {0}번 이고 음량은 {1} 입니다'.format(self.channel, self.volume)"
   ]
  },
  {
   "cell_type": "code",
   "execution_count": 30,
   "metadata": {},
   "outputs": [],
   "source": [
    "tv1=TV(3,4,True)\n",
    "radio1=Radio(534,6,True)"
   ]
  },
  {
   "cell_type": "code",
   "execution_count": 31,
   "metadata": {},
   "outputs": [
    {
     "name": "stdout",
     "output_type": "stream",
     "text": [
      "Volume is increased : 5\n"
     ]
    }
   ],
   "source": [
    "tv1.increaseVo()"
   ]
  },
  {
   "cell_type": "code",
   "execution_count": 32,
   "metadata": {},
   "outputs": [
    {
     "name": "stdout",
     "output_type": "stream",
     "text": [
      "Volume is decreased : 5\n"
     ]
    }
   ],
   "source": [
    "radio1.decreaseVo()"
   ]
  },
  {
   "cell_type": "code",
   "execution_count": 33,
   "metadata": {},
   "outputs": [
    {
     "name": "stdout",
     "output_type": "stream",
     "text": [
      "Volume is decreased : 4\n"
     ]
    }
   ],
   "source": [
    "radio1.decreaseVo()"
   ]
  },
  {
   "cell_type": "code",
   "execution_count": 34,
   "metadata": {},
   "outputs": [
    {
     "name": "stdout",
     "output_type": "stream",
     "text": [
      "현재 채널은 3번 이고 음량은 5 입니다\n"
     ]
    }
   ],
   "source": [
    "print(tv1)"
   ]
  },
  {
   "cell_type": "code",
   "execution_count": 35,
   "metadata": {},
   "outputs": [
    {
     "name": "stdout",
     "output_type": "stream",
     "text": [
      "현재 채널은 534번 이고 음량은 4 입니다\n"
     ]
    }
   ],
   "source": [
    "print(radio1)"
   ]
  },
  {
   "cell_type": "code",
   "execution_count": null,
   "metadata": {
    "collapsed": true
   },
   "outputs": [],
   "source": []
  }
 ],
 "metadata": {
  "kernelspec": {
   "display_name": "Python 3",
   "language": "python",
   "name": "python3"
  },
  "language_info": {
   "codemirror_mode": {
    "name": "ipython",
    "version": 3
   },
   "file_extension": ".py",
   "mimetype": "text/x-python",
   "name": "python",
   "nbconvert_exporter": "python",
   "pygments_lexer": "ipython3",
   "version": "3.6.2"
  }
 },
 "nbformat": 4,
 "nbformat_minor": 2
}
