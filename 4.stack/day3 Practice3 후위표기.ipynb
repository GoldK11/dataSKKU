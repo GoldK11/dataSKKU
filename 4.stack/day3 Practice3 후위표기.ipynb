{
 "cells": [
  {
   "cell_type": "code",
   "execution_count": 3,
   "metadata": {},
   "outputs": [
    {
     "name": "stdout",
     "output_type": "stream",
     "text": [
      "Enter the notation: 23+\n",
      "[5]\n"
     ]
    }
   ],
   "source": [
    "'''\n",
    "연산실행식만\n",
    "연산할 때 eval('2+3') 이런식으로 쓰자\n",
    "식 예시 : 234*+ (2+3*4 =14),  23*42/+ (2*3+4/2=8), 23+4* ((2+3)*4=20)\n",
    "\n",
    "\n",
    "'''\n",
    "from stack import *\n",
    "\n",
    "s = Stack()\n",
    "n = input('Enter the notation: ')\n",
    "n = n.strip()\n",
    "\n",
    "\n",
    "for i in n:\n",
    "    if i not in '*+-/':\n",
    "        s.push(i)\n",
    "    else:\n",
    "        n2 = str(s.pop())\n",
    "        n1 = str(s.pop())\n",
    "        n_result = eval(n1 + i + n2)\n",
    "        s.push(n_result)\n",
    "print(s.items)"
   ]
  },
  {
   "cell_type": "code",
   "execution_count": 19,
   "metadata": {},
   "outputs": [
    {
     "name": "stdout",
     "output_type": "stream",
     "text": [
      "Enter the notation: 4+6/2+3*1\n",
      "fixed notation and rsult>> 462/+31*+ = 10.0\n"
     ]
    }
   ],
   "source": [
    "'''\n",
    "첨부터 구현\n",
    "1. infix를 postfix로 바꿈   >> op_stack(연산자 스택), post_list(post로 바뀐식 리스트)\n",
    "피연산자의 경우 : post_list에 추가\n",
    "연산자의 경우 : \n",
    "    1. op_stack에 들어가있는 연산자보다 우선순위 높을 시 op_stack에 push\n",
    "    2. 내가 더 낮거나 같을경우, 나보다 낮은애 나올때까지 op_stack에서 pop해서 post_list에 추가 후 \n",
    "        나는 op_stack으로 push\n",
    "2. postfix 되어있는 연산을 실행  >> s (구현스택)\n",
    "\n",
    ">> 우선순위 설정 : dictionary로 하자 no_dic\n",
    ">> 비었을 때 어떻게 할지 \n",
    "4+6/2+3*1 (462/+31*+ = 10.0)  /   6*3/2+8/2  (63*2/82/+ = 13.0 )\n",
    "\n",
    "'''\n",
    "from stack import *\n",
    "\n",
    "no_dic = {}\n",
    "post_list=[]\n",
    "op_stack = Stack()\n",
    "s = Stack()\n",
    "\n",
    "\n",
    "no_dic['+']=1\n",
    "no_dic['-']=1\n",
    "no_dic['*']=2\n",
    "no_dic['/']=2\n",
    "no_dic['(']=3\n",
    "\n",
    "notation = input('Enter the notation: ')\n",
    "notation = notation.strip()\n",
    "\n",
    "\n",
    "\n",
    "for i in notation:\n",
    "    if i in '+-/*(':\n",
    "        if op_stack.isEmpty():\n",
    "            op_stack.push(i)\n",
    "        else:\n",
    "            if no_dic[i] > no_dic[op_stack.peek()]:\n",
    "                op_stack.push(i)\n",
    "            else:\n",
    "                while not op_stack.isEmpty() and no_dic[i] <= no_dic[op_stack.peek()] :\n",
    "                    post_list.append(op_stack.pop())\n",
    "                op_stack.push(i)                \n",
    "    elif i == ')':\n",
    "        pass\n",
    "    else:\n",
    "        post_list.append(i)\n",
    "\n",
    "if not op_stack.isEmpty():\n",
    "    while not op_stack.isEmpty():\n",
    "        post_list.append(op_stack.pop())\n",
    "      \n",
    "        \n",
    "postfix = ''.join(post_list)\n",
    "\n",
    "\n",
    "for i in postfix:\n",
    "    if i not in '*+-/':\n",
    "        s.push(i)\n",
    "    else:\n",
    "        n2 = str(s.pop())\n",
    "        n1 = str(s.pop())\n",
    "        n_result = eval(n1 + i + n2)\n",
    "        s.push(n_result)\n",
    "\n",
    "result = s.items[0]\n",
    "\n",
    "print('fixed notation and result>>',postfix,'=',result)\n",
    "\n"
   ]
  },
  {
   "cell_type": "code",
   "execution_count": 20,
   "metadata": {},
   "outputs": [
    {
     "name": "stdout",
     "output_type": "stream",
     "text": [
      "462/+31*+\n",
      "10.0\n"
     ]
    }
   ],
   "source": [
    "\n",
    "\n",
    "from stack import *\n",
    "\n",
    "\n",
    "def convert(notation):\n",
    "    \n",
    "    st = Stack()\n",
    "    \n",
    "    prec={}\n",
    "    prec[\"+\"] = 1\n",
    "    prec[\"-\"] = 1 \n",
    "    prec[\"*\"] = 2 \n",
    "    prec[\"/\"] = 2\n",
    "    \n",
    "    posfix = \"\"\n",
    "    \n",
    "    for a in notation.strip():\n",
    "        if a in \"+-/*\":\n",
    "            while not st.isEmpty():\n",
    "                if prec[a]<=prec[st.peek()]:\n",
    "                    posfix += st.pop()\n",
    "                else:\n",
    "                    break\n",
    "            st.push(a)\n",
    "        else:\n",
    "            posfix += a\n",
    "        \n",
    "    while not st.isEmpty():\n",
    "        posfix += st.pop()\n",
    "        \n",
    "    return posfix\n",
    "\n",
    "def evaluate(notation):\n",
    "    st = Stack()\n",
    "    for a in notation:\n",
    "        if a in \"+-/*\":\n",
    "            x = st.pop()\n",
    "            y = st.pop()\n",
    "            res = eval(y+a+x)\n",
    "            st.push(str(res))\n",
    "        else:\n",
    "            st.push(a)\n",
    "    return st.pop()\n",
    "\n",
    "# 4+6/2+3*1 (462/+31*+ = 10.0)  /   6*3/2+8/2  (63*2/82/+ = 13.0 )\n",
    "\n",
    "print(convert('  4+6/2+3*1 '))\n",
    "print(evaluate(convert('  4+6/2+3*1')))"
   ]
  },
  {
   "cell_type": "code",
   "execution_count": null,
   "metadata": {
    "collapsed": true
   },
   "outputs": [],
   "source": []
  }
 ],
 "metadata": {
  "kernelspec": {
   "display_name": "Python 3",
   "language": "python",
   "name": "python3"
  },
  "language_info": {
   "codemirror_mode": {
    "name": "ipython",
    "version": 3
   },
   "file_extension": ".py",
   "mimetype": "text/x-python",
   "name": "python",
   "nbconvert_exporter": "python",
   "pygments_lexer": "ipython3",
   "version": "3.6.2"
  }
 },
 "nbformat": 4,
 "nbformat_minor": 2
}
