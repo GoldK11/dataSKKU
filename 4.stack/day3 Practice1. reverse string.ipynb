{
 "cells": [
  {
   "cell_type": "code",
   "execution_count": 9,
   "metadata": {},
   "outputs": [
    {
     "name": "stdout",
     "output_type": "stream",
     "text": [
      "Enter the string: can't you hear me?\n"
     ]
    },
    {
     "data": {
      "text/plain": [
       "\"?em raeh uoy t'nac\""
      ]
     },
     "execution_count": 9,
     "metadata": {},
     "output_type": "execute_result"
    }
   ],
   "source": [
    "from stack import *\n",
    "\n",
    "\n",
    "s = input('Enter the string: ')\n",
    "\n",
    "\n",
    "def reversed_string(s):\n",
    "    \n",
    "    rs=\"\"\n",
    "    st = Stack()\n",
    "\n",
    "    for i in s:\n",
    "        st.push(i)\n",
    "\n",
    "    while not st.isEmpty():\n",
    "        rs+=st.pop()\n",
    "   \n",
    "    return rs\n",
    "\n",
    "\n",
    "\n",
    "\n",
    "reversed_string(s)\n"
   ]
  },
  {
   "cell_type": "code",
   "execution_count": null,
   "metadata": {
    "collapsed": true
   },
   "outputs": [],
   "source": []
  }
 ],
 "metadata": {
  "kernelspec": {
   "display_name": "Python 3",
   "language": "python",
   "name": "python3"
  },
  "language_info": {
   "codemirror_mode": {
    "name": "ipython",
    "version": 3
   },
   "file_extension": ".py",
   "mimetype": "text/x-python",
   "name": "python",
   "nbconvert_exporter": "python",
   "pygments_lexer": "ipython3",
   "version": "3.6.2"
  }
 },
 "nbformat": 4,
 "nbformat_minor": 2
}
