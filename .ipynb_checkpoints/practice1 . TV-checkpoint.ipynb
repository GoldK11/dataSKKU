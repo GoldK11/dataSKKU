{
 "cells": [
  {
   "cell_type": "code",
   "execution_count": 1,
   "metadata": {
    "collapsed": true
   },
   "outputs": [],
   "source": [
    "class TV:\n",
    "    def __init__(self,ch,vo,on):\n",
    "        self.channel = ch\n",
    "        self.volume = vo\n",
    "        self.on = on\n",
    "        \n",
    "    def turnOn(self,ch,vo):\n",
    "        self.on = True\n",
    "        print('TV is on')\n",
    "        print('Please set channel and volume')\n",
    "        self.setChannel(ch)\n",
    "        self.setVolume(vo)\n",
    "    \n",
    "    def turnOff(self):\n",
    "        self.on = False\n",
    "        print('TV is off')\n",
    "    \n",
    "    def setChannel(self,ch):\n",
    "        self.channel = ch\n",
    "        print('Channel is changed :',ch)\n",
    "    \n",
    "    def setVolume(self,vo):\n",
    "        self.volume = vo\n",
    "        print('Volume is changed :',vo)\n",
    "    \n",
    "    def increaseCh(self):\n",
    "        self.channel = self.channel + 1\n",
    "        print('Channel is increased :',self.channel)\n",
    "    \n",
    "    def decreaseCh(self):\n",
    "        self.channel = self.channel - 1\n",
    "        print('Channel is decreased :',self.channel)\n",
    "    \n",
    "    def increaseVo(self):\n",
    "        self.volume = self.volume + 1\n",
    "        print('Volume is increased :',self.volume)\n",
    "    \n",
    "    def decreaseVo(self):\n",
    "        self.volume = self.volume - 1\n",
    "        print('Volume is decreased :',self.volume)\n",
    "        \n",
    "    def __str__(self):\n",
    "        if self.on == False:\n",
    "            return 'TV가 꺼져있습니다'\n",
    "        return '현재 채널은 {0}번 이고 음량은 {1} 입니다'.format(self.channel, self.volume)\n",
    "    \n",
    "        "
   ]
  },
  {
   "cell_type": "code",
   "execution_count": 2,
   "metadata": {
    "collapsed": true
   },
   "outputs": [],
   "source": [
    "tv1=TV(6,3,True)\n",
    "tv2=TV(2,6,True)"
   ]
  },
  {
   "cell_type": "code",
   "execution_count": 3,
   "metadata": {},
   "outputs": [
    {
     "name": "stdout",
     "output_type": "stream",
     "text": [
      "현재 채널은 6번 이고 음량은 3 입니다\n",
      "현재 채널은 2번 이고 음량은 6 입니다\n"
     ]
    }
   ],
   "source": [
    "print(tv1)\n",
    "print(tv2)"
   ]
  },
  {
   "cell_type": "code",
   "execution_count": 4,
   "metadata": {},
   "outputs": [
    {
     "name": "stdout",
     "output_type": "stream",
     "text": [
      "Channel is increased : 3\n"
     ]
    }
   ],
   "source": [
    "tv2.increaseCh()"
   ]
  },
  {
   "cell_type": "code",
   "execution_count": 5,
   "metadata": {},
   "outputs": [
    {
     "name": "stdout",
     "output_type": "stream",
     "text": [
      "TV is off\n"
     ]
    }
   ],
   "source": [
    "tv1.turnOff()"
   ]
  },
  {
   "cell_type": "code",
   "execution_count": 6,
   "metadata": {},
   "outputs": [
    {
     "name": "stdout",
     "output_type": "stream",
     "text": [
      "Volume is changed : 5\n"
     ]
    }
   ],
   "source": [
    "tv2.setVolume(5)"
   ]
  },
  {
   "cell_type": "code",
   "execution_count": 7,
   "metadata": {},
   "outputs": [
    {
     "name": "stdout",
     "output_type": "stream",
     "text": [
      "TV가 꺼져있습니다\n",
      "현재 채널은 3번 이고 음량은 5 입니다\n"
     ]
    }
   ],
   "source": [
    "print(tv1)\n",
    "print(tv2)"
   ]
  },
  {
   "cell_type": "code",
   "execution_count": 8,
   "metadata": {},
   "outputs": [
    {
     "name": "stdout",
     "output_type": "stream",
     "text": [
      "TV is on\n",
      "Please set channel and volume\n",
      "Channel is changed : 3\n",
      "Volume is changed : 5\n"
     ]
    }
   ],
   "source": [
    "tv1.turnOn(3,5)"
   ]
  },
  {
   "cell_type": "code",
   "execution_count": 9,
   "metadata": {},
   "outputs": [
    {
     "name": "stdout",
     "output_type": "stream",
     "text": [
      "현재 채널은 3번 이고 음량은 5 입니다\n"
     ]
    }
   ],
   "source": [
    "print(tv1)"
   ]
  },
  {
   "cell_type": "code",
   "execution_count": null,
   "metadata": {
    "collapsed": true
   },
   "outputs": [],
   "source": []
  }
 ],
 "metadata": {
  "kernelspec": {
   "display_name": "Python 3",
   "language": "python",
   "name": "python3"
  },
  "language_info": {
   "codemirror_mode": {
    "name": "ipython",
    "version": 3
   },
   "file_extension": ".py",
   "mimetype": "text/x-python",
   "name": "python",
   "nbconvert_exporter": "python",
   "pygments_lexer": "ipython3",
   "version": "3.6.2"
  }
 },
 "nbformat": 4,
 "nbformat_minor": 2
}
