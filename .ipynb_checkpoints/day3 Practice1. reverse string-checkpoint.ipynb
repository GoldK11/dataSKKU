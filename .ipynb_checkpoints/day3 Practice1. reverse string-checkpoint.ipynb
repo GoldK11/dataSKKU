{
 "cells": [
  {
   "cell_type": "code",
   "execution_count": 12,
   "metadata": {},
   "outputs": [
    {
     "name": "stdout",
     "output_type": "stream",
     "text": [
      "Enter the string: hello world\n"
     ]
    }
   ],
   "source": [
    "from stack import *\n",
    "\n",
    "s = input('Enter the string: ')\n",
    "\n",
    "st = Stack()\n",
    "\n"
   ]
  },
  {
   "cell_type": "code",
   "execution_count": 13,
   "metadata": {},
   "outputs": [
    {
     "name": "stdout",
     "output_type": "stream",
     "text": [
      "['h', 'e', 'l', 'l', 'o', ' ', 'w', 'o', 'r', 'l', 'd']\n",
      "dlrow olleh"
     ]
    }
   ],
   "source": [
    "for i in s:\n",
    "    st.push(i)\n",
    "\n",
    "print(st.items)\n",
    "\n",
    "while not st.isEmpty():\n",
    "    print(st.peek(),end='')\n",
    "    st.pop()"
   ]
  }
 ],
 "metadata": {
  "kernelspec": {
   "display_name": "Python 3",
   "language": "python",
   "name": "python3"
  },
  "language_info": {
   "codemirror_mode": {
    "name": "ipython",
    "version": 3
   },
   "file_extension": ".py",
   "mimetype": "text/x-python",
   "name": "python",
   "nbconvert_exporter": "python",
   "pygments_lexer": "ipython3",
   "version": "3.6.2"
  }
 },
 "nbformat": 4,
 "nbformat_minor": 2
}
