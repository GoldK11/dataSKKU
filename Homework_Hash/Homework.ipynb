{
 "cells": [
  {
   "cell_type": "code",
   "execution_count": 97,
   "metadata": {
    "collapsed": true
   },
   "outputs": [],
   "source": [
    "class HashTable:\n",
    "    def __init__(self):\n",
    "        self.size = 11\n",
    "        self.slots = [None]*self.size\n",
    "    \n",
    "    def put(self,key,data):\n",
    "        hashvalue = self.hashfunction(key,len(self.slots))\n",
    "        \n",
    "        if self.slots[hashvalue]==None:\n",
    "            self.slots[hashvalue] = UnorderedList()\n",
    "            \n",
    "        self.slots[hashvalue].add(key,data) \n",
    "\n",
    "    def hashfunction(self,key,size):\n",
    "        return key%size\n",
    "    \n",
    "    def get(self,key): \n",
    "        hashvalue = self.hashfunction(key,len(self.slots))\n",
    "        if self.slots[hashvalue]==None:\n",
    "            return False\n",
    "        else:\n",
    "            return self.slots[hashvalue].getData(key)\n",
    "    \n",
    "    def __getitem__(self,key):\n",
    "        return self.get(key)\n",
    "    \n",
    "        \n",
    "    def __setitem__(self,key,data):\n",
    "        self.put(key,data)\n",
    "    \n",
    "\n",
    "    def __delitem__(self,key):\n",
    "        hashvalue = self.hashfunction(key,len(self.slots))\n",
    "        if self.slots[hashvalue]==None:\n",
    "            return False\n",
    "        else:\n",
    "            self.slots[hashvalue].remove(key)\n",
    "\n",
    "\n",
    "    def __len__(self):\n",
    "        n = 0\n",
    "        for i in range(self.size):\n",
    "            if self.slots[i] != None:\n",
    "                current = self.slots[i].head\n",
    "                while current != None:\n",
    "                    n+=1\n",
    "                    current = current.getNext()         \n",
    "        return n\n",
    "       \n",
    "    def __contains__(self,key):\n",
    "        contain = self.get(key)\n",
    "        if contain:\n",
    "            return True\n",
    "        else:\n",
    "            return False\n",
    "        \n",
    "    def __str__(self):\n",
    "        s=\"\"\n",
    "        for i in range(self.size):\n",
    "            if self.slots[i] != None:\n",
    "                current = self.slots[i].head\n",
    "                while current != None:\n",
    "                    s += str(current.getKey())+\":\"+current.getData()+\", \"\n",
    "                    current = current.getNext() \n",
    "            else:\n",
    "                s+=\"None, \"\n",
    "        return s\n",
    "    \n",
    "class Node:\n",
    "    def __init__(self,initkey,initdata):\n",
    "        self.key = initkey\n",
    "        self.data = initdata\n",
    "        self.next = None\n",
    "    def getData(self):\n",
    "        return self.data\n",
    "    def getKey(self):\n",
    "        return self.key\n",
    "    def getNext(self):\n",
    "        return self.next\n",
    "    def setData(self,newdata):\n",
    "        self.data = newdata\n",
    "    def setNext(self,newnext):\n",
    "        self.next = newnext\n",
    "    def __str__(self):\n",
    "        s=\"\"\n",
    "        current = self.head\n",
    "        while current != None:\n",
    "            s += str(current.getKey())+\":\"+current.getData()+\", \"\n",
    "            current = current.getNext() \n",
    "        return s\n",
    "    \n",
    "\n",
    "class UnorderedList:\n",
    "\n",
    "    def __init__(self):\n",
    "        self.head = None\n",
    "\n",
    "    def add(self,key,item):\n",
    "        temp = Node(key,item)\n",
    "        current = self.head\n",
    "        if current == None:\n",
    "            self.head = temp\n",
    "        else:\n",
    "            while current.getNext()!=None:\n",
    "                current = current.getNext()\n",
    "            current.setNext(temp)\n",
    "\n",
    "    def search(self,key): \n",
    "        current = self.head\n",
    "        found = False\n",
    "        while current != None and not found:\n",
    "            if current.getKey() == key:\n",
    "                found = True\n",
    "            else:\n",
    "                current = current.getNext()\n",
    "        return found\n",
    "\n",
    "    def getData(self,key):\n",
    "        current = self.head\n",
    "        while current != None:\n",
    "            if current.getKey() == key:\n",
    "                return current.getData()\n",
    "            current = current.getNext()\n",
    "    \n",
    "    def remove(self,key): \n",
    "        current = self.head\n",
    "        previous = None\n",
    "        found = False\n",
    "        while not found:\n",
    "            if current.getKey() == key:\n",
    "                found = True\n",
    "            else:\n",
    "                previous = current\n",
    "                current = current.getNext()\n",
    "\n",
    "        if previous == None:\n",
    "            self.head = current.getNext()\n",
    "        else:\n",
    "            previous.setNext(current.getNext())\n",
    "   \n",
    "                        \n",
    "H = HashTable()\n",
    "H[34] = \"dog\"\n",
    "H[45] = \"cat\"\n",
    "H[67] = \"lowe\"\n"
   ]
  },
  {
   "cell_type": "code",
   "execution_count": 98,
   "metadata": {},
   "outputs": [
    {
     "name": "stdout",
     "output_type": "stream",
     "text": [
      "None, 34:dog, 45:cat, 67:lowe, None, None, None, None, None, None, None, None, None, \n"
     ]
    }
   ],
   "source": [
    "print(H)"
   ]
  },
  {
   "cell_type": "code",
   "execution_count": 99,
   "metadata": {},
   "outputs": [
    {
     "data": {
      "text/plain": [
       "'cat'"
      ]
     },
     "execution_count": 99,
     "metadata": {},
     "output_type": "execute_result"
    }
   ],
   "source": [
    "H.get(45)"
   ]
  },
  {
   "cell_type": "code",
   "execution_count": 100,
   "metadata": {},
   "outputs": [
    {
     "data": {
      "text/plain": [
       "False"
      ]
     },
     "execution_count": 100,
     "metadata": {},
     "output_type": "execute_result"
    }
   ],
   "source": [
    "H.get(43)"
   ]
  },
  {
   "cell_type": "code",
   "execution_count": 101,
   "metadata": {},
   "outputs": [
    {
     "data": {
      "text/plain": [
       "False"
      ]
     },
     "execution_count": 101,
     "metadata": {},
     "output_type": "execute_result"
    }
   ],
   "source": [
    "H.get(35)"
   ]
  },
  {
   "cell_type": "code",
   "execution_count": 102,
   "metadata": {},
   "outputs": [
    {
     "data": {
      "text/plain": [
       "'dog'"
      ]
     },
     "execution_count": 102,
     "metadata": {},
     "output_type": "execute_result"
    }
   ],
   "source": [
    "H.get(34)"
   ]
  },
  {
   "cell_type": "code",
   "execution_count": 103,
   "metadata": {},
   "outputs": [
    {
     "data": {
      "text/plain": [
       "False"
      ]
     },
     "execution_count": 103,
     "metadata": {},
     "output_type": "execute_result"
    }
   ],
   "source": [
    "H.get(55)"
   ]
  },
  {
   "cell_type": "code",
   "execution_count": 104,
   "metadata": {},
   "outputs": [],
   "source": [
    "H.__delitem__(45)"
   ]
  },
  {
   "cell_type": "code",
   "execution_count": 105,
   "metadata": {},
   "outputs": [
    {
     "name": "stdout",
     "output_type": "stream",
     "text": [
      "None, 34:dog, 67:lowe, None, None, None, None, None, None, None, None, None, \n"
     ]
    }
   ],
   "source": [
    "print(H)"
   ]
  },
  {
   "cell_type": "code",
   "execution_count": 106,
   "metadata": {},
   "outputs": [
    {
     "data": {
      "text/plain": [
       "2"
      ]
     },
     "execution_count": 106,
     "metadata": {},
     "output_type": "execute_result"
    }
   ],
   "source": [
    "H.__len__()"
   ]
  },
  {
   "cell_type": "code",
   "execution_count": 107,
   "metadata": {
    "collapsed": true
   },
   "outputs": [],
   "source": [
    "H[69]=\"horse\""
   ]
  },
  {
   "cell_type": "code",
   "execution_count": 108,
   "metadata": {
    "collapsed": true
   },
   "outputs": [],
   "source": [
    "H[42]=\"hawk\""
   ]
  },
  {
   "cell_type": "code",
   "execution_count": 109,
   "metadata": {
    "collapsed": true
   },
   "outputs": [],
   "source": [
    "H[39]=\"wolf\""
   ]
  },
  {
   "cell_type": "code",
   "execution_count": 110,
   "metadata": {},
   "outputs": [
    {
     "name": "stdout",
     "output_type": "stream",
     "text": [
      "None, 34:dog, 67:lowe, None, 69:horse, None, None, 39:wolf, None, None, 42:hawk, None, \n"
     ]
    }
   ],
   "source": [
    "print(H)"
   ]
  },
  {
   "cell_type": "code",
   "execution_count": 111,
   "metadata": {},
   "outputs": [
    {
     "data": {
      "text/plain": [
       "5"
      ]
     },
     "execution_count": 111,
     "metadata": {},
     "output_type": "execute_result"
    }
   ],
   "source": [
    "H.__len__()"
   ]
  },
  {
   "cell_type": "code",
   "execution_count": 112,
   "metadata": {},
   "outputs": [
    {
     "data": {
      "text/plain": [
       "True"
      ]
     },
     "execution_count": 112,
     "metadata": {},
     "output_type": "execute_result"
    }
   ],
   "source": [
    "H.__contains__(67)"
   ]
  },
  {
   "cell_type": "code",
   "execution_count": 113,
   "metadata": {},
   "outputs": [
    {
     "data": {
      "text/plain": [
       "False"
      ]
     },
     "execution_count": 113,
     "metadata": {},
     "output_type": "execute_result"
    }
   ],
   "source": [
    "H.__contains__(88)"
   ]
  },
  {
   "cell_type": "code",
   "execution_count": 114,
   "metadata": {},
   "outputs": [
    {
     "data": {
      "text/plain": [
       "True"
      ]
     },
     "execution_count": 114,
     "metadata": {},
     "output_type": "execute_result"
    }
   ],
   "source": [
    "H.__contains__(42)"
   ]
  },
  {
   "cell_type": "code",
   "execution_count": 117,
   "metadata": {},
   "outputs": [
    {
     "name": "stdout",
     "output_type": "stream",
     "text": [
      "77:bird, 44:goat, 55:pig, None, None, None, 26:dog, 93:lion, 17:tiger, None, None, 31:cow, 20:chicken, 54:cat, \n",
      "9\n",
      "chicken\n",
      "False\n",
      "True\n",
      "77:bird, 44:goat, 55:pig, None, None, None, 26:dog, 93:lion, 17:tiger, None, None, 31:cow, 54:cat, \n",
      "tiger\n",
      "cow\n"
     ]
    }
   ],
   "source": [
    "H2=HashTable()\n",
    "H2[54]=\"cat\"\n",
    "H2.put(26, \"dog\")\n",
    "H2[93]=\"lion\"\n",
    "H2[17]=\"tiger\"\n",
    "H2[77]=\"bird\"\n",
    "H2[31]=\"cow\"\n",
    "H2[44]=\"goat\"\n",
    "H2[55]=\"pig\"\n",
    "H2[20]=\"chicken\"\n",
    "print(H2)\n",
    "print(len(H2))\n",
    "print(H2.get(20))\n",
    "del H2[20]\n",
    "print( 20 in H2)\n",
    "print( 31 in H2)\n",
    "print(H2)\n",
    "print(H2[17])\n",
    "print(H2.get(31))"
   ]
  },
  {
   "cell_type": "code",
   "execution_count": null,
   "metadata": {
    "collapsed": true
   },
   "outputs": [],
   "source": []
  }
 ],
 "metadata": {
  "kernelspec": {
   "display_name": "Python 3",
   "language": "python",
   "name": "python3"
  },
  "language_info": {
   "codemirror_mode": {
    "name": "ipython",
    "version": 3
   },
   "file_extension": ".py",
   "mimetype": "text/x-python",
   "name": "python",
   "nbconvert_exporter": "python",
   "pygments_lexer": "ipython3",
   "version": "3.6.2"
  }
 },
 "nbformat": 4,
 "nbformat_minor": 2
}
