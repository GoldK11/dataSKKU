{
 "cells": [
  {
   "cell_type": "code",
   "execution_count": 6,
   "metadata": {},
   "outputs": [
    {
     "name": "stdout",
     "output_type": "stream",
     "text": [
      "[0, 6, 20, 26, 31, 32, 44, 44, 54, 55, 77, 93]\n"
     ]
    }
   ],
   "source": [
    "def quickSort(l):\n",
    "    quickSortHelper(l,0,len(l)-1)\n",
    "\n",
    "def quickSortHelper(l,first,last):\n",
    "    if first < last:\n",
    "        p = partition(l,first,last)\n",
    "        quickSortHelper(l,first,p-1)\n",
    "        quickSortHelper(l,p+1,last)\n",
    "\n",
    "def partition(l,f,ls):\n",
    "    pivot=l[f]\n",
    "    first=f+1\n",
    "    last=ls\n",
    "    done = False\n",
    "    while not done:\n",
    "        while first<=last and l[first]<=pivot:\n",
    "            first+=1\n",
    "        while first<=last and l[last]>=pivot:\n",
    "            last-=1\n",
    "        if first>last:\n",
    "            done=True\n",
    "        else:\n",
    "            l[first],l[last] = l[last],l[first]\n",
    "            \n",
    "    point = last\n",
    "    l[f],l[last] = l[last],l[f]\n",
    "    \n",
    "    return point\n",
    "    \n",
    "\n",
    "\n",
    "\n",
    "l=[54,26,93,77,31,0,44,55,44,20,32,6]\n",
    "quickSort(l)\n",
    "print(l)\n"
   ]
  },
  {
   "cell_type": "code",
   "execution_count": null,
   "metadata": {
    "collapsed": true
   },
   "outputs": [],
   "source": []
  }
 ],
 "metadata": {
  "kernelspec": {
   "display_name": "Python 3",
   "language": "python",
   "name": "python3"
  },
  "language_info": {
   "codemirror_mode": {
    "name": "ipython",
    "version": 3
   },
   "file_extension": ".py",
   "mimetype": "text/x-python",
   "name": "python",
   "nbconvert_exporter": "python",
   "pygments_lexer": "ipython3",
   "version": "3.6.2"
  }
 },
 "nbformat": 4,
 "nbformat_minor": 2
}
