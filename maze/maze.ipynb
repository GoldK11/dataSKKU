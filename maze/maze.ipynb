{
 "cells": [
  {
   "cell_type": "code",
   "execution_count": 72,
   "metadata": {},
   "outputs": [
    {
     "name": "stdout",
     "output_type": "stream",
     "text": [
      "['###########################', 'O #     #####  ### # ## ###', '#   ###  ##### ### # ## ###', '# ######           #      #', '#  ##### ## ######## ## # #', '##   ##  ##          ## # #', '####  ######### ####### # G', '###########################']\n"
     ]
    }
   ],
   "source": [
    "# x: 행. y: 열\n",
    "\n",
    "f = open(\"mazeTest5.txt\", 'r')\n",
    "data=[]\n",
    "while True:\n",
    "    line = f.readline().strip()\n",
    "    if not line:\n",
    "        break\n",
    "    data.append(line)\n",
    "print(data)\n",
    "f.close()"
   ]
  },
  {
   "cell_type": "code",
   "execution_count": 73,
   "metadata": {},
   "outputs": [
    {
     "name": "stdout",
     "output_type": "stream",
     "text": [
      "8 27\n"
     ]
    }
   ],
   "source": [
    "x=len(data)\n",
    "y=len(data[0])\n",
    "print(x,y)"
   ]
  },
  {
   "cell_type": "code",
   "execution_count": 74,
   "metadata": {},
   "outputs": [
    {
     "name": "stdout",
     "output_type": "stream",
     "text": [
      "(1, 0)\n",
      "(6, 26)\n",
      "[(1, 1), (1, 3), (1, 4), (1, 5), (1, 6), (1, 7), (1, 13), (1, 14), (1, 18), (1, 20), (1, 23), (2, 1), (2, 2), (2, 3), (2, 7), (2, 8), (2, 14), (2, 18), (2, 20), (2, 23), (3, 1), (3, 8), (3, 9), (3, 10), (3, 11), (3, 12), (3, 13), (3, 14), (3, 15), (3, 16), (3, 17), (3, 18), (3, 20), (3, 21), (3, 22), (3, 23), (3, 24), (3, 25), (4, 1), (4, 2), (4, 8), (4, 11), (4, 20), (4, 23), (4, 25), (5, 2), (5, 3), (5, 4), (5, 7), (5, 8), (5, 11), (5, 12), (5, 13), (5, 14), (5, 15), (5, 16), (5, 17), (5, 18), (5, 19), (5, 20), (5, 23), (5, 25), (6, 4), (6, 5), (6, 15), (6, 23), (6, 25)]\n"
     ]
    }
   ],
   "source": [
    "maze = []\n",
    "for i in range (x):\n",
    "    for j in range (y):\n",
    "        if data[i][j] == \"O\":\n",
    "            start = (i,j)\n",
    "        elif data[i][j] == \" \":\n",
    "            maze.append((i,j))\n",
    "        elif data[i][j] == \"G\":\n",
    "            final = (i,j)\n",
    "print(start)\n",
    "print(final)\n",
    "print(maze)            "
   ]
  },
  {
   "cell_type": "code",
   "execution_count": 75,
   "metadata": {
    "collapsed": true
   },
   "outputs": [],
   "source": [
    "from stack import *"
   ]
  },
  {
   "cell_type": "code",
   "execution_count": 76,
   "metadata": {},
   "outputs": [
    {
     "name": "stdout",
     "output_type": "stream",
     "text": [
      "[(6, 5), (6, 4), (5, 4), (5, 3), (5, 2), (4, 2), (4, 1), (3, 1), (5, 7), (5, 8), (4, 8), (6, 15), (1, 20), (2, 20), (6, 23), (5, 23), (4, 23), (1, 23), (2, 23)]\n",
      "[(1, 13), (1, 14), (1, 18), (2, 14), (2, 18), (3, 13), (3, 14), (3, 15), (3, 16), (3, 17), (3, 18)]\n",
      "[(1, 0), (1, 1), (2, 1), (2, 2), (2, 3), (1, 3), (1, 4), (1, 5), (1, 6), (1, 7), (2, 7), (2, 8), (3, 8), (3, 9), (3, 10), (3, 11), (4, 11), (5, 11), (5, 12), (5, 13), (5, 14), (5, 15), (5, 16), (5, 17), (5, 18), (5, 19), (5, 20), (4, 20), (3, 20), (3, 21), (3, 22), (3, 23), (3, 24), (3, 25), (4, 25), (5, 25), (6, 25)]\n"
     ]
    }
   ],
   "source": [
    "s = Stack()\n",
    "path = Stack()\n",
    "now = start\n",
    "go = True\n",
    "re = []\n",
    "\n",
    "path.push(start)\n",
    "\n",
    "while go:\n",
    "    for i in [(now[0],now[1]-1),(now[0],now[1]+1),(now[0]-1,now[1]),(now[0]+1,now[1])]:\n",
    "        if i ==final:\n",
    "            go = False\n",
    "        elif i in maze:\n",
    "            s.push(i)\n",
    "            maze.remove(i)\n",
    "    if go:        \n",
    "        now = s.pop()\n",
    "    else:\n",
    "        break\n",
    "    p=path.peek()\n",
    "    \n",
    "    yes = True\n",
    "    while yes:\n",
    "        if now in [(p[0],p[1]-1),(p[0],p[1]+1),(p[0]-1,p[1]),(p[0]+1,p[1])]:\n",
    "            yes= False\n",
    "        else:\n",
    "            re.append(path.pop())\n",
    "            p=path.peek()\n",
    "    \n",
    "    path.push(now)\n",
    "\n",
    "print(re)\n",
    "print(maze)        \n",
    "print(path.items)"
   ]
  },
  {
   "cell_type": "code",
   "execution_count": 77,
   "metadata": {},
   "outputs": [
    {
     "name": "stdout",
     "output_type": "stream",
     "text": [
      "###########################\n",
      "00#00000#####  ### #.##.###\n",
      "#000###00##### ### #.##.###\n",
      "#.######0000       #000000#\n",
      "#..#####.##0########0##.#0#\n",
      "##...##..##0000000000##.#0#\n",
      "####..#########.#######.#0G\n",
      "###########################\n"
     ]
    }
   ],
   "source": [
    "for i in range (x):\n",
    "    for j in range (y):\n",
    "        if (i,j) in path.items:\n",
    "            data[i]=data[i][:j]+\"0\"+data[i][j+1:]\n",
    "        elif (i,j) in re:\n",
    "            data[i]=data[i][:j]+\".\"+data[i][j+1:]\n",
    "for line in data:\n",
    "    for ch in line:\n",
    "        print(ch,end='')\n",
    "    print()\n"
   ]
  },
  {
   "cell_type": "code",
   "execution_count": null,
   "metadata": {
    "collapsed": true
   },
   "outputs": [],
   "source": []
  },
  {
   "cell_type": "code",
   "execution_count": null,
   "metadata": {
    "collapsed": true
   },
   "outputs": [],
   "source": []
  },
  {
   "cell_type": "code",
   "execution_count": null,
   "metadata": {
    "collapsed": true
   },
   "outputs": [],
   "source": []
  }
 ],
 "metadata": {
  "kernelspec": {
   "display_name": "Python 3",
   "language": "python",
   "name": "python3"
  },
  "language_info": {
   "codemirror_mode": {
    "name": "ipython",
    "version": 3
   },
   "file_extension": ".py",
   "mimetype": "text/x-python",
   "name": "python",
   "nbconvert_exporter": "python",
   "pygments_lexer": "ipython3",
   "version": "3.6.2"
  }
 },
 "nbformat": 4,
 "nbformat_minor": 2
}
