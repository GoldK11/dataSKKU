{
 "cells": [
  {
   "cell_type": "code",
   "execution_count": 21,
   "metadata": {},
   "outputs": [],
   "source": [
    "# hash fucntion은 slot의 값(key)으로 계산한다. data와 헷갈리지 말기! \n",
    "\n",
    "class HashTable:\n",
    "    def __init__(self):\n",
    "        self.size = 11\n",
    "        self.slots = [None]*self.size # size 크기만큼 빈 슬롯을 생성\n",
    "        self.data = [None]*self.size\n",
    "\n",
    "    \n",
    "    def hashfunction(self,key,size):\n",
    "        return key%size\n",
    "        \n",
    "        \n",
    "    def put(self,key,data):\n",
    "        hashvalue = self.hashfunction(key,len(self.slots)) #1. slot의 값으로 hash function을 돌려서 hash value를 알아내고\n",
    "        \n",
    "        # 2. 그 위치로 들어가는 과정\n",
    "            # 1) 넣을 위치에 아무것도 없다 >> 거기다 넣는당\n",
    "            # 2) 넣을 위치에 있다 >> 1) 키가 같을경우 데이터를 교체 \n",
    "                               # 2) 키가 다를 경우 rehash를 돌린다(next 슬롯에 뭐가 있는데 키가 같지 않을경우 계속 돌림)\n",
    "        if self.slots[hashvalue] == None:\n",
    "            self.slots[hashvalue] = key\n",
    "            self.data[hashvalue] = data\n",
    "        else:\n",
    "            if self.slots[hashvalue] == key:\n",
    "                self.data[hashvalue] = data # replace // H[20] = 'duck' 이 때 쓰임\n",
    "            else:\n",
    "                nextslot = self.rehash(hashvalue,len(self.slots))\n",
    "                while self.slots[nextslot] != None and self.slots[nextslot] != key:\n",
    "                    nextslot = self.rehash(nextslot,len(self.slots))\n",
    "                if self.slots[nextslot] == None:\n",
    "                    self.slots[nextslot] = key\n",
    "                    self.data[nextslot] = data\n",
    "                else:  # self.slots[hashvalue] == key인 경우\n",
    "                    self.data[nextslot] = data # replace        \n",
    "        \n",
    "    \n",
    "    def rehash(self,oldhash,size):\n",
    "        return (oldhash+1)%size\n",
    "    \n",
    "    def get(self,key):\n",
    "        # 1. 원래 찾는 아이템이 있어야 되는 자리부터 가본다 (start slot) \n",
    "        # 2. 거기 아이템이 있긴 있는데 찾는 친구가 아닐 경우 rehash로계속 찾는다.\n",
    "        startslot = self.hashfunction(key,len(self.slots))\n",
    "        data = None\n",
    "        stop = False\n",
    "        found = False\n",
    "        position = startslot\n",
    "    \n",
    "        while self.slots[position] != None and not found and not stop:\n",
    "            if self.slots[position] == key:\n",
    "                found = True\n",
    "                data = self.data[position]\n",
    "            else:\n",
    "                position=self.rehash(position,len(self.slots))\n",
    "                if position == startslot:  #한바퀴 다 돌아서 처음 시작 위치로 올때까지 못찾으면 멈춤\n",
    "                    stop = True\n",
    "        return data,position\n",
    "\n",
    "    def __getitem__(self,key):\n",
    "        return (self.get(key))[0]\n",
    "\n",
    "    def __setitem__(self,key,data):\n",
    "        self.put(key,data)    \n",
    "\n",
    "    def __len__(self):\n",
    "        n=0\n",
    "        for i in self.data:\n",
    "            if i != None:\n",
    "                n+=1\n",
    "        return n\n",
    "    \n",
    "    def __contains__(self,key):\n",
    "        d, p = self.get(key)\n",
    "        if d :\n",
    "            return True\n",
    "        else:\n",
    "            return False\n",
    "            \n",
    "    def __delitem__(self,key):\n",
    "        d, p = self.get(key)\n",
    "        self.data[p]=None\n",
    "        self.slots[p]=None\n",
    "        \n",
    "    def __str__(self):\n",
    "        s = \" \"\n",
    "        for i in range(self.size):\n",
    "            if self.slots[i]:\n",
    "                s = s+str(self.slots[i]) + \":\" + self.data[i] + \", \"\n",
    "        return s\n",
    "    "
   ]
  },
  {
   "cell_type": "code",
   "execution_count": 22,
   "metadata": {},
   "outputs": [
    {
     "name": "stdout",
     "output_type": "stream",
     "text": [
      "[77, 44, 55, 20, 26, 93, 17, None, None, 31, 54]\n",
      "['bird', 'goat', 'pig', 'chicken', 'dog', 'lion', 'tiger', None, None, 'cow', 'cat']\n",
      "chicken\n",
      "tiger\n",
      "duck\n",
      "None\n",
      "[77, 44, 55, 20, 26, 93, 17, None, None, 31, 54]\n",
      "['bird', 'goat', 'pig', 'duck', 'dog', 'lion', 'tiger', None, None, 'cow', 'cat']\n",
      "9\n"
     ]
    }
   ],
   "source": [
    "H=HashTable()\n",
    "H[54]=\"cat\"\n",
    "H[26]=\"dog\"\n",
    "H[93]=\"lion\"\n",
    "H[17]=\"tiger\"\n",
    "H[77]=\"bird\"\n",
    "H[31]=\"cow\"\n",
    "H[44]=\"goat\"\n",
    "H[55]=\"pig\"\n",
    "H[20]=\"chicken\"\n",
    "print(H.slots)\n",
    "print(H.data)\n",
    "\n",
    "print(H[20])\n",
    "\n",
    "print(H[17])\n",
    "H[20]='duck' # chicken 이 duck으로 repalce 됨\n",
    "print(H[20])\n",
    "print(H[99])\n",
    "\n",
    "print(H.slots)\n",
    "print(H.data)\n",
    "print(len(H))"
   ]
  },
  {
   "cell_type": "code",
   "execution_count": 23,
   "metadata": {},
   "outputs": [
    {
     "name": "stdout",
     "output_type": "stream",
     "text": [
      " 77:bird, 44:goat, 55:pig, 20:duck, 26:dog, 93:lion, 17:tiger, 31:cow, 54:cat, \n"
     ]
    }
   ],
   "source": [
    "print(H)"
   ]
  },
  {
   "cell_type": "code",
   "execution_count": 24,
   "metadata": {},
   "outputs": [
    {
     "data": {
      "text/plain": [
       "True"
      ]
     },
     "execution_count": 24,
     "metadata": {},
     "output_type": "execute_result"
    }
   ],
   "source": [
    "H.__contains__(55)"
   ]
  },
  {
   "cell_type": "code",
   "execution_count": 25,
   "metadata": {
    "collapsed": true
   },
   "outputs": [],
   "source": [
    "H.__delitem__(54)"
   ]
  },
  {
   "cell_type": "code",
   "execution_count": 26,
   "metadata": {},
   "outputs": [
    {
     "data": {
      "text/plain": [
       "False"
      ]
     },
     "execution_count": 26,
     "metadata": {},
     "output_type": "execute_result"
    }
   ],
   "source": [
    "H.__contains__(54)"
   ]
  },
  {
   "cell_type": "code",
   "execution_count": 27,
   "metadata": {},
   "outputs": [
    {
     "name": "stdout",
     "output_type": "stream",
     "text": [
      " 77:bird, 44:goat, 55:pig, 20:duck, 26:dog, 93:lion, 17:tiger, 31:cow, \n"
     ]
    }
   ],
   "source": [
    "print(H)"
   ]
  },
  {
   "cell_type": "code",
   "execution_count": 28,
   "metadata": {},
   "outputs": [],
   "source": [
    "H.__delitem__(33)"
   ]
  },
  {
   "cell_type": "code",
   "execution_count": 29,
   "metadata": {},
   "outputs": [
    {
     "data": {
      "text/plain": [
       "(None, 7)"
      ]
     },
     "execution_count": 29,
     "metadata": {},
     "output_type": "execute_result"
    }
   ],
   "source": [
    "H.get(33)"
   ]
  },
  {
   "cell_type": "code",
   "execution_count": null,
   "metadata": {
    "collapsed": true
   },
   "outputs": [],
   "source": []
  },
  {
   "cell_type": "code",
   "execution_count": null,
   "metadata": {
    "collapsed": true
   },
   "outputs": [],
   "source": []
  }
 ],
 "metadata": {
  "kernelspec": {
   "display_name": "Python 3",
   "language": "python",
   "name": "python3"
  },
  "language_info": {
   "codemirror_mode": {
    "name": "ipython",
    "version": 3
   },
   "file_extension": ".py",
   "mimetype": "text/x-python",
   "name": "python",
   "nbconvert_exporter": "python",
   "pygments_lexer": "ipython3",
   "version": "3.6.2"
  }
 },
 "nbformat": 4,
 "nbformat_minor": 2
}
