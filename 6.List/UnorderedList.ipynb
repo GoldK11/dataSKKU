{
 "cells": [
  {
   "cell_type": "code",
   "execution_count": 20,
   "metadata": {
    "collapsed": true
   },
   "outputs": [],
   "source": [
    "from Node import *\n",
    "\n",
    "class UnorderedList:\n",
    "    def __init__(self):\n",
    "        self.head = None\n",
    "    \n",
    "    def isEmpty(self):\n",
    "        return self.head == None\n",
    "    \n",
    "    def add(self,item):\n",
    "        temp = Node(item)\n",
    "        temp.setNext(self.head)\n",
    "        self.head = temp\n",
    "        \n",
    "    def size(self):\n",
    "        current = self.head\n",
    "        count = 0\n",
    "        while current != None:\n",
    "            count = count +1\n",
    "            current = current.getNext()\n",
    "        return count\n",
    "    \n",
    "    def search(self,item):\n",
    "        current = self.head\n",
    "        found = False\n",
    "        while current != None and not found:\n",
    "            if current.getData() == item:\n",
    "                found = True\n",
    "            else:\n",
    "                current = current.getNext()\n",
    "        return found\n",
    "    \n",
    "    def remove(self,item):\n",
    "        current = self.head\n",
    "        previous= None\n",
    "        found = False\n",
    "        while not found:\n",
    "            if current.getData() == item:\n",
    "                found  = True\n",
    "            else:\n",
    "                previous = current\n",
    "                current = current.getNext()\n",
    "        if previous == None:\n",
    "            self.head = current.getNext()\n",
    "        else:\n",
    "            previous.setNext(current.getNext())\n",
    "\n",
    "            \n",
    "    def append(self,item):\n",
    "        new = Node(item)\n",
    "        current = self.head\n",
    "        while current.getNext() != None:\n",
    "            current = current.getNext()\n",
    "        current.setNext(new)\n",
    "\n",
    "    def insert(self,index,item):\n",
    "        # index = 0 일 때 고려해야한다\n",
    "        count = 0\n",
    "        current = self.head\n",
    "        previous = None\n",
    "        temp = Node(item)\n",
    "        \n",
    "        if index = 0:\n",
    "            temp.setNext(self.head)\n",
    "            self.head = temp\n",
    "        else:\n",
    "            while count != index:\n",
    "                previous = current\n",
    "                current = current.getNext()\n",
    "                count += 1\n",
    "            previous.setNext(temp)\n",
    "            temp.setNext(current)\n",
    "        \n",
    "            \n",
    "    \n",
    "    def index(self,item):\n",
    "        current = self.head\n",
    "        pos = 0\n",
    "        while current != None:\n",
    "            if current.getData() == item:\n",
    "                return pos\n",
    "            else:\n",
    "                current = current.getNext()\n",
    "            pos += 1\n",
    "    \n",
    "    def pop(self,index):\n",
    "        count = 0\n",
    "        current = self.head\n",
    "        previous = None\n",
    "        while count != index:\n",
    "            previous = current\n",
    "            current = current.getNext()\n",
    "            count += 1\n",
    "        if previous == None:\n",
    "            self.head = current.getNext()\n",
    "        else:\n",
    "            previous.setNext(current.getNext())\n",
    "        \n",
    "    \n",
    "    def __str__(self):\n",
    "        current = self.head\n",
    "        s = \"\"\n",
    "        while current != None:\n",
    "            s = s + \" \" + str(current.getData())\n",
    "            current = current.getNext()\n",
    "        return s\n"
   ]
  },
  {
   "cell_type": "code",
   "execution_count": 21,
   "metadata": {},
   "outputs": [
    {
     "name": "stdout",
     "output_type": "stream",
     "text": [
      " 2 5 3\n"
     ]
    }
   ],
   "source": [
    "mylist = UnorderedList()\n",
    "mylist.add(3)\n",
    "mylist.add(5)\n",
    "mylist.add(2)\n",
    "print(mylist)"
   ]
  },
  {
   "cell_type": "code",
   "execution_count": 22,
   "metadata": {},
   "outputs": [
    {
     "data": {
      "text/plain": [
       "3"
      ]
     },
     "execution_count": 22,
     "metadata": {},
     "output_type": "execute_result"
    }
   ],
   "source": [
    "mylist.size()"
   ]
  },
  {
   "cell_type": "code",
   "execution_count": 23,
   "metadata": {},
   "outputs": [
    {
     "name": "stdout",
     "output_type": "stream",
     "text": [
      " 2 5\n"
     ]
    }
   ],
   "source": [
    "mylist.remove(3)\n",
    "print(mylist)"
   ]
  },
  {
   "cell_type": "code",
   "execution_count": 24,
   "metadata": {},
   "outputs": [
    {
     "data": {
      "text/plain": [
       "2"
      ]
     },
     "execution_count": 24,
     "metadata": {},
     "output_type": "execute_result"
    }
   ],
   "source": [
    "mylist.size()"
   ]
  },
  {
   "cell_type": "code",
   "execution_count": 25,
   "metadata": {},
   "outputs": [
    {
     "name": "stdout",
     "output_type": "stream",
     "text": [
      " 41 2 5\n"
     ]
    }
   ],
   "source": [
    "mylist.add(41)\n",
    "print(mylist)"
   ]
  },
  {
   "cell_type": "code",
   "execution_count": 26,
   "metadata": {
    "collapsed": true
   },
   "outputs": [],
   "source": [
    "mylist.insert(2,90)"
   ]
  },
  {
   "cell_type": "code",
   "execution_count": 27,
   "metadata": {},
   "outputs": [
    {
     "data": {
      "text/plain": [
       "2"
      ]
     },
     "execution_count": 27,
     "metadata": {},
     "output_type": "execute_result"
    }
   ],
   "source": [
    "mylist.index(90)"
   ]
  },
  {
   "cell_type": "code",
   "execution_count": 28,
   "metadata": {},
   "outputs": [
    {
     "name": "stdout",
     "output_type": "stream",
     "text": [
      " 41 2 90 5\n"
     ]
    }
   ],
   "source": [
    "print(mylist)"
   ]
  },
  {
   "cell_type": "code",
   "execution_count": 29,
   "metadata": {},
   "outputs": [
    {
     "name": "stdout",
     "output_type": "stream",
     "text": [
      " 41 13 2 90 5\n"
     ]
    }
   ],
   "source": [
    "mylist.insert(1,13)\n",
    "print(mylist)"
   ]
  },
  {
   "cell_type": "code",
   "execution_count": 30,
   "metadata": {},
   "outputs": [
    {
     "data": {
      "text/plain": [
       "2"
      ]
     },
     "execution_count": 30,
     "metadata": {},
     "output_type": "execute_result"
    }
   ],
   "source": [
    "mylist.index(2)"
   ]
  },
  {
   "cell_type": "code",
   "execution_count": 31,
   "metadata": {},
   "outputs": [
    {
     "data": {
      "text/plain": [
       "4"
      ]
     },
     "execution_count": 31,
     "metadata": {},
     "output_type": "execute_result"
    }
   ],
   "source": [
    "mylist.index(5)"
   ]
  },
  {
   "cell_type": "code",
   "execution_count": 32,
   "metadata": {},
   "outputs": [
    {
     "name": "stdout",
     "output_type": "stream",
     "text": [
      " 13 2 90 5\n"
     ]
    }
   ],
   "source": [
    "mylist.pop(0)\n",
    "print(mylist)"
   ]
  },
  {
   "cell_type": "code",
   "execution_count": 33,
   "metadata": {
    "collapsed": true
   },
   "outputs": [],
   "source": [
    "mylist.append(78)"
   ]
  },
  {
   "cell_type": "code",
   "execution_count": 34,
   "metadata": {},
   "outputs": [
    {
     "name": "stdout",
     "output_type": "stream",
     "text": [
      " 13 2 90 5 78\n"
     ]
    }
   ],
   "source": [
    "print(mylist)"
   ]
  },
  {
   "cell_type": "code",
   "execution_count": 36,
   "metadata": {
    "collapsed": true
   },
   "outputs": [],
   "source": [
    "mylist.append(13)"
   ]
  },
  {
   "cell_type": "code",
   "execution_count": 37,
   "metadata": {},
   "outputs": [
    {
     "name": "stdout",
     "output_type": "stream",
     "text": [
      " 13 2 90 5 78 13\n"
     ]
    }
   ],
   "source": [
    "print(mylist)"
   ]
  },
  {
   "cell_type": "code",
   "execution_count": 38,
   "metadata": {
    "collapsed": true
   },
   "outputs": [],
   "source": [
    "mylist.pop(5)"
   ]
  },
  {
   "cell_type": "code",
   "execution_count": 39,
   "metadata": {},
   "outputs": [
    {
     "name": "stdout",
     "output_type": "stream",
     "text": [
      " 13 2 90 5 78\n"
     ]
    }
   ],
   "source": [
    "print(mylist)"
   ]
  },
  {
   "cell_type": "code",
   "execution_count": 40,
   "metadata": {},
   "outputs": [
    {
     "name": "stdout",
     "output_type": "stream",
     "text": [
      " 44 13 2 90 5 78\n"
     ]
    }
   ],
   "source": [
    "mylist.add(44)\n",
    "print(mylist)"
   ]
  },
  {
   "cell_type": "code",
   "execution_count": null,
   "metadata": {
    "collapsed": true
   },
   "outputs": [],
   "source": []
  }
 ],
 "metadata": {
  "kernelspec": {
   "display_name": "Python 3",
   "language": "python",
   "name": "python3"
  },
  "language_info": {
   "codemirror_mode": {
    "name": "ipython",
    "version": 3
   },
   "file_extension": ".py",
   "mimetype": "text/x-python",
   "name": "python",
   "nbconvert_exporter": "python",
   "pygments_lexer": "ipython3",
   "version": "3.6.2"
  }
 },
 "nbformat": 4,
 "nbformat_minor": 2
}
