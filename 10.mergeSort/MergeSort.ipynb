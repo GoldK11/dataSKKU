{
 "cells": [
  {
   "cell_type": "code",
   "execution_count": 2,
   "metadata": {},
   "outputs": [
    {
     "name": "stdout",
     "output_type": "stream",
     "text": [
      "List:  [54, 26, 93, 17, 77, 31, 44, 55, 20]\n",
      "List:  [54, 26, 93, 17]\n",
      "List:  [54, 26]\n",
      "List:  [54]\n",
      "List:  [26]\n",
      "merge: [26, 54]\n",
      "List:  [93, 17]\n",
      "List:  [93]\n",
      "List:  [17]\n",
      "merge: [17, 93]\n",
      "merge: [17, 26, 54, 93]\n",
      "List:  [77, 31, 44, 55, 20]\n",
      "List:  [77, 31]\n",
      "List:  [77]\n",
      "List:  [31]\n",
      "merge: [31, 77]\n",
      "List:  [44, 55, 20]\n",
      "List:  [44]\n",
      "List:  [55, 20]\n",
      "List:  [55]\n",
      "List:  [20]\n",
      "merge: [20, 55]\n",
      "merge: [20, 44, 55]\n",
      "merge: [20, 31, 44, 55, 77]\n",
      "merge: [17, 20, 26, 31, 44, 54, 55, 77, 93]\n",
      "[17, 20, 26, 31, 44, 54, 55, 77, 93]\n"
     ]
    }
   ],
   "source": [
    "def mergeSort(l):\n",
    "    print(\"List: \",l)\n",
    "    if len(l)>1:\n",
    "        mid = len(l)//2\n",
    "        left=l[:mid]\n",
    "        right=l[mid:]\n",
    "        \n",
    "        mergeSort(left)\n",
    "        mergeSort(right)\n",
    "        merge(left,right,l)\n",
    "        \n",
    "def merge(l,r,a):\n",
    "    i=0\n",
    "    j=0\n",
    "    k=0\n",
    "    while i<len(l) and j<len(r):\n",
    "        if l[i]<r[j]:\n",
    "            a[k]=l[i]\n",
    "            i+=1\n",
    "        else:\n",
    "            a[k]=r[j]\n",
    "            j+=1\n",
    "        k+=1\n",
    "   #둘 중 하나라도 끝나면 남은 파트 처리하는거     \n",
    "    while i<len(l):\n",
    "        a[k]=l[i]\n",
    "        i+=1\n",
    "        k+=1\n",
    "    while j<len(r):\n",
    "        a[k]=r[j]\n",
    "        j+=1\n",
    "        k+=1\n",
    "    print('merge:',a)\n",
    "                \n",
    "alist = [54,26,93,17,77,31,44,55,20]\n",
    "mergeSort(alist)\n",
    "print(alist)    \n"
   ]
  },
  {
   "cell_type": "code",
   "execution_count": null,
   "metadata": {
    "collapsed": true
   },
   "outputs": [],
   "source": []
  },
  {
   "cell_type": "code",
   "execution_count": null,
   "metadata": {
    "collapsed": true
   },
   "outputs": [],
   "source": []
  }
 ],
 "metadata": {
  "kernelspec": {
   "display_name": "Python 3",
   "language": "python",
   "name": "python3"
  },
  "language_info": {
   "codemirror_mode": {
    "name": "ipython",
    "version": 3
   },
   "file_extension": ".py",
   "mimetype": "text/x-python",
   "name": "python",
   "nbconvert_exporter": "python",
   "pygments_lexer": "ipython3",
   "version": "3.6.2"
  }
 },
 "nbformat": 4,
 "nbformat_minor": 2
}
