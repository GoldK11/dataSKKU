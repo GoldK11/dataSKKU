{
 "cells": [
  {
   "cell_type": "code",
   "execution_count": 5,
   "metadata": {},
   "outputs": [
    {
     "name": "stdout",
     "output_type": "stream",
     "text": [
      "David\n",
      "Kent\n",
      "Jane\n",
      "Bill\n",
      "Brad\n",
      "Susan\n"
     ]
    }
   ],
   "source": [
    "from queuee import *\n",
    "\n",
    "\n",
    "def potato(nlist,num):\n",
    "    nQue = Queue()\n",
    "    for n in nlist:\n",
    "        nQue.enqueue(n)\n",
    "    \n",
    "    while nQue.size()>1:\n",
    "        for i in range(num):\n",
    "            nQue.enqueue(nQue.dequeue())\n",
    "        print(nQue.dequeue())\n",
    "    \n",
    "    return nQue.dequeue()\n",
    "\n",
    "print(potato([\"Bill\",\"David\",\"Susan\",\"Jane\",\"Kent\",\"Brad\"],7))\n",
    "        "
   ]
  },
  {
   "cell_type": "code",
   "execution_count": null,
   "metadata": {
    "collapsed": true
   },
   "outputs": [],
   "source": []
  }
 ],
 "metadata": {
  "kernelspec": {
   "display_name": "Python 3",
   "language": "python",
   "name": "python3"
  },
  "language_info": {
   "codemirror_mode": {
    "name": "ipython",
    "version": 3
   },
   "file_extension": ".py",
   "mimetype": "text/x-python",
   "name": "python",
   "nbconvert_exporter": "python",
   "pygments_lexer": "ipython3",
   "version": "3.6.2"
  }
 },
 "nbformat": 4,
 "nbformat_minor": 2
}
