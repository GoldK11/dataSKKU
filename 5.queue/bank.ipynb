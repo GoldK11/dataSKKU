{
 "cells": [
  {
   "cell_type": "code",
   "execution_count": 23,
   "metadata": {
    "collapsed": true
   },
   "outputs": [],
   "source": [
    "from queuee import *\n",
    "import random \n",
    "\n",
    "\n",
    "class Customer:\n",
    "    def __init__(self,name,time):\n",
    "        self.name = name\n",
    "        self.arrivalTime = time\n",
    "        self.serveTime = random.randrange(1,11)\n",
    "    \n",
    "    def getServeTime(self):\n",
    "        return self.serveTime\n",
    "    \n",
    "    def waitTime(self,currenttime):\n",
    "        return currenttime-self.arrivalTime\n",
    "    \n",
    "class Server:\n",
    "    def __init__(self):\n",
    "        self.currentTask=None\n",
    "        self.timeRemaining=0\n",
    "        \n",
    "    def tick(self):\n",
    "        if self.currentTask != None:\n",
    "            self.timeRemaining -= 1\n",
    "            if self.timeRemaining<=0:\n",
    "                self.currentTask = None\n",
    "                \n",
    "    def busy(self):\n",
    "        if self.currentTask!=None:\n",
    "            return True\n",
    "        else:\n",
    "            return False\n",
    "        \n",
    "    def startNext(self,newtask):\n",
    "        self.currentTask = newtask\n",
    "        self.timeRemaining = newtask.getServeTime()"
   ]
  },
  {
   "cell_type": "code",
   "execution_count": 24,
   "metadata": {
    "collapsed": true
   },
   "outputs": [],
   "source": [
    "def new_customer():\n",
    "    num = random.randrange(1,4)\n",
    "    if num ==3:\n",
    "        return True\n",
    "    else:\n",
    "        return False"
   ]
  },
  {
   "cell_type": "code",
   "execution_count": 30,
   "metadata": {
    "collapsed": true
   },
   "outputs": [],
   "source": [
    "def simulation(numTime):\n",
    "    server=Server()\n",
    "    customerQueue = Queue()\n",
    "    waitingtimes =[]\n",
    "    \n",
    "    i=1\n",
    "    \n",
    "    for currentTime in range(1,numTime):\n",
    "        print(\"time:\",currentTime)\n",
    "        if new_customer():\n",
    "            customer = Customer(i,currentTime)\n",
    "            print(\"customer\",customer.name,\"/ serve time:\",customer.getServeTime())\n",
    "            customerQueue.enqueue(customer)\n",
    "            i+=1\n",
    "        if (not server.busy())and (not customerQueue.isEmpty()):\n",
    "            nexttask = customerQueue.dequeue()\n",
    "            waitingtimes.append(nexttask.waitTime(currentTime))\n",
    "            server.startNext(nexttask)\n",
    "        server.tick()\n",
    "    \n",
    "    averageWait = sum(waitingtimes)/len(waitingtimes)\n",
    "\n",
    "    \n",
    "    print(\"Number of served customers=\",len(waitingtimes))\n",
    "    print(\"Average waiting time per customer=\",averageWait)\n",
    "    print(\"Number of customers waiting=\",customerQueue.size())\n",
    "    print(waitingtimes)\n",
    "            \n"
   ]
  },
  {
   "cell_type": "code",
   "execution_count": 31,
   "metadata": {},
   "outputs": [
    {
     "name": "stdout",
     "output_type": "stream",
     "text": [
      "time: 1\n",
      "customer 1 / serve time: 6\n",
      "time: 2\n",
      "customer 2 / serve time: 1\n",
      "time: 3\n",
      "time: 4\n",
      "time: 5\n",
      "time: 6\n",
      "time: 7\n",
      "customer 3 / serve time: 6\n",
      "time: 8\n",
      "time: 9\n",
      "customer 4 / serve time: 5\n",
      "Number of served customers= 3\n",
      "Average waiting time per customer= 2.0\n",
      "Number of customers waiting= 1\n",
      "[0, 5, 1]\n"
     ]
    }
   ],
   "source": [
    "simulation(10)"
   ]
  },
  {
   "cell_type": "code",
   "execution_count": null,
   "metadata": {
    "collapsed": true
   },
   "outputs": [],
   "source": []
  }
 ],
 "metadata": {
  "kernelspec": {
   "display_name": "Python 3",
   "language": "python",
   "name": "python3"
  },
  "language_info": {
   "codemirror_mode": {
    "name": "ipython",
    "version": 3
   },
   "file_extension": ".py",
   "mimetype": "text/x-python",
   "name": "python",
   "nbconvert_exporter": "python",
   "pygments_lexer": "ipython3",
   "version": "3.6.2"
  }
 },
 "nbformat": 4,
 "nbformat_minor": 2
}
